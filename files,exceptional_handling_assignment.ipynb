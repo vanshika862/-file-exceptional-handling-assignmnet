{
  "nbformat": 4,
  "nbformat_minor": 0,
  "metadata": {
    "colab": {
      "provenance": []
    },
    "kernelspec": {
      "name": "python3",
      "display_name": "Python 3"
    },
    "language_info": {
      "name": "python"
    }
  },
  "cells": [
    {
      "cell_type": "markdown",
      "source": [
        "# Theory Questions:-"
      ],
      "metadata": {
        "id": "Dpl7ZGncMRBJ"
      }
    },
    {
      "cell_type": "markdown",
      "source": [
        "Q1 what is the difference between interpreted and compiled languages?"
      ],
      "metadata": {
        "id": "bWcppq1XMWsg"
      }
    },
    {
      "cell_type": "markdown",
      "source": [
        "Ans:- # Compiled languages -\n",
        "\n",
        "* source code is translated into machine code(binary) before execution\n",
        "* A compiler converts the entire program into executable files(.exe , .ot. )\n",
        "* Examples- C, C++ ,rust, go\n",
        "* Execution is faster since code is pre translated\n",
        "* Errors are caught at compile time\n",
        "* Platform specific executables are created\n",
        "\n",
        "Interpreted Languages-\n",
        "\n",
        "* Souce code is executed line by line at runtime\n",
        "* An interpreter reads and executes code directly\n",
        "*Examples python, javascript, ruby\n",
        "* slower execution as translation happens during runtime\n",
        "* more flexibility can execute code interatively\n",
        "platform- ibdependent\n",
        "* errors are caught at runtime"
      ],
      "metadata": {
        "id": "ESNdDehXONuO"
      }
    },
    {
      "cell_type": "markdown",
      "source": [
        "Q2 what is exception handling in python\n",
        "\n",
        "ans:- Exception handling in python is a programming technique thaht allows you to handle runtime errors gracefully without crashing your platform. It provides way to catch and respind tp exceptional circumstances taht occur during program execution\n",
        "\n",
        "components of exception handling:-\n",
        "\n",
        "* contains code that might raise an exception\n",
        "*handles specific exceptions when they occur\n",
        "*executes when no exceptions are raised in the try block\n",
        "\n",
        "Benefits:\n",
        "* prevents program crashes\n",
        "*provides meaningful error messages\n",
        "*allows graceful error recovery\n",
        "* improves code reliability ans user experience\n"
      ],
      "metadata": {
        "id": "UddyJ7RpPggm"
      }
    },
    {
      "cell_type": "markdown",
      "source": [
        "Q3  wat is the purpose of the finally block in exception handling?\n",
        "\n",
        "ans:-key pirposes of the finally block:-\n",
        "\n",
        "* guarnteed execution= code in the finally block always runs,whether no exception occurs, an exception is raised but not caught\n",
        "* resources cleanup essential for releasing resources like= closing files, releasing database connections , freeing network connections, cleaning up temporary variables\n",
        "* cleanup operations= perform necessary cleanuptasks such as logging completion status , restoting system status , finalizing operations"
      ],
      "metadata": {
        "id": "vc_FuQvLQVY0"
      }
    },
    {
      "cell_type": "markdown",
      "source": [
        "Q4  what is logging in python?\n",
        "\n",
        "ans:- logging in python is built in module that provides a flexible framwork for recording events, messages and dignostic information during program execution , Its an essential tool for debugging , monitoring and maintaining applications\n",
        "\n",
        "feature:-\n",
        "\n",
        "* captures and stores information about what happens during program execution\n",
        "* organises messages by importance debug, info , warning ,error, critical\n",
        "* can send logs to files console, network or other destinations\n",
        "* customise how log messages appear\n",
        "* can be easily disabled in production without code changes"
      ],
      "metadata": {
        "id": "3XJ1d8NZSOhj"
      }
    },
    {
      "cell_type": "markdown",
      "source": [
        "Q5 what is the significance of the del method in python ?\n",
        "\n",
        "Ans:- the del method inpyhton is a special method (destructor) that is automatically  called when an object is about to be destroyed bby the garbage collector\n",
        "\n",
        "significancw:\n",
        "\n",
        "* called automatically when an objects refrence count drops to zero or whenn the program ends\n",
        "* used tp release external resources like files, network connections, or database connections\n",
        "* helps in clening up resources that pythons garbage collector might not handle automatically\n",
        "* acts as a finalizer to perform last minute cleanup operations"
      ],
      "metadata": {
        "id": "k9K6T_t0TTNR"
      }
    },
    {
      "cell_type": "markdown",
      "source": [
        "Q6 what is the differnce between import and from... import in python?\n",
        "\n",
        "ans- the difference between import and from... import in python\n",
        "\n",
        "1 import statement:\n",
        "\n",
        "* imports the entie module\n",
        "*you need to use the module name as a prefix to access its contents\n",
        "* creates a namespace for the module\n",
        "* use import for better code readbility and avoiding name conflicts\n",
        "\n",
        "2 from... import statement:\n",
        "\n",
        "*imports specific functions, classes or variables from a module\n",
        "* allows direct access withput module prefix\n",
        "* canimport everything using\n",
        "* use from...import for frequently used functions to reduce typing"
      ],
      "metadata": {
        "id": "OvfDoH0gVJRv"
      }
    },
    {
      "cell_type": "markdown",
      "source": [
        "Q7 how can you handle multiple exceptions in python?\n",
        "\n",
        "ans:- python provides several ways to handle multiple exceptions effectively;\n",
        "\n",
        "* multiple except blocks for different exception types\n",
        "* handling multiple exceptions in a single except block\n",
        "* using general exception handler\n",
        "* nested try except blocks\n",
        "*complete exception handling structure\n",
        "* handles specific exceptions first then general nes\n",
        "* log exceptions for debugging purposes\n",
        "* consider using else block for code thta should run inly if no exceptions occured."
      ],
      "metadata": {
        "id": "22yAUMSYWclq"
      }
    },
    {
      "cell_type": "markdown",
      "source": [
        "Q8 what is the purposes of thw with statement whwn handling files in python?\n",
        "\n",
        "ans:- the purpose of the with statement when handling diles in python:\n",
        "\n",
        "* automatic resources management:  it automatically opens and closes files ensuring proper cleanup even if an error occurs\n",
        "\n",
        "* exception safety:  if an exception is raised while the file is open the with statement guarantees the file will siyll be closed properly\n",
        "\n",
        "* cleaner code: it eleminates the need tp manually call file.close() and reduce boilerplate code\n",
        "\n",
        "* memory effficienct:  It prevents memory leaks by ensuring files are properly closed and resources are freed"
      ],
      "metadata": {
        "id": "IQ_0GIHQXdW-"
      }
    },
    {
      "cell_type": "markdown",
      "source": [
        "Q9 what is the difference between multithreading and multiprocessing?\n",
        "\n",
        "ans:-the difference between multithreading and multipleprocess\n",
        "\n",
        "MULTITHREADING:\n",
        "\n",
        "* Uses multiple threads within a single process\n",
        "* threads share the same memory space and resources\n",
        "* limited by pythons global interpreter lock\n",
        "* better forI/0 bound tasks\n",
        "* lower memory overhead\n",
        "*faster communications bewween threads\n",
        "\n",
        "MULTIPROCESSING:\n",
        "\n",
        "* uses multiple separate process\n",
        "* each process has itss own memory space\n",
        "* not limited by gil true parallelism\n",
        "* better for CPU bound tasks\n",
        "* higher memory overhead\n",
        "* inter process communication is more comples"
      ],
      "metadata": {
        "id": "5qOt5nTTYo2U"
      }
    },
    {
      "cell_type": "markdown",
      "source": [
        "Q10 what are the advantages of using logging in a program?\n",
        "\n",
        "ans:- Advantags:\n",
        "\n",
        "1 Debugging annd trobleshooting:\n",
        "\n",
        "*  helps identify where errors occur in the code\n",
        "* provides detailed information about program execution flow\n",
        "* makes it easer to traces bugs and fix issues\n",
        "\n",
        "2 monitoring application performance:\n",
        "\n",
        "* track how long operations take\n",
        "* monitor resource usage and bottlenecks\n",
        "* identify performance issues in production\n",
        "\n",
        "3 aduit trail and compliance:\n",
        "\n",
        "* keep records of user actions and system events\n",
        "* meet regulstory requirements for dta handling\n",
        "* maintain accountability and securiy logs\n",
        "\n",
        "4 different log levels:\n",
        "\n",
        "* debug- detailed diagostic infomatiom\n",
        "* info- general information about program execution\n",
        "* warning - potentil issues that dont stop execution\n",
        "\n",
        "5 flexible output options:\n",
        "\n",
        "* log to files for permanent storage\n",
        "* log to immediatae feedback\n",
        "*configure different formates for different audiences\n"
      ],
      "metadata": {
        "id": "vpJINHxmay8t"
      }
    },
    {
      "cell_type": "markdown",
      "source": [
        "Q11 what is memory management in python ?\n",
        "\n",
        "ans:-  meory managmenet in python refers to how python automatically handles to how python automatically handles the allocationand deallocation of memory  for objects during program execution\n",
        "\n",
        "1  automatic memory management:\n",
        "\n",
        "* python handle memory allocation automatically when you create objects\n",
        "* you dont need to manually allocate or deacllocate memory lile c/C++\n",
        "\n",
        "2 reference counting:\n",
        "\n",
        "* python keeps track of how many refrences point to each object\n",
        "* when an onject refrence count drops to zerp , it becomes eligible for garbage collection\n",
        "\n",
        "3 garbage collection:\n",
        "\n",
        "* python has a inbuilt garbage collector that handles cyclic refrences\n",
        "* uses a genertaional garbage collection algorithm"
      ],
      "metadata": {
        "id": "-X9Ceg7Dc4Rx"
      }
    },
    {
      "cell_type": "markdown",
      "source": [
        "Q12 what are the basic steps involved in exception handling in python?\n",
        "\n",
        "ans:- the basic steps involved in exception handling in python:-\n",
        "\n",
        "1 try block:\n",
        "\n",
        "* contains the code that might raise an exception\n",
        "* python attempts to execute this code first\n",
        "* if no exeception occurs , the except block is skipped\n",
        "\n",
        "2 except block:\n",
        "\n",
        "* contains code that handles specific exceptions\n",
        "* executed only when an exception occurs in the try block\n",
        "* can handle specific exceptions\n",
        "\n",
        "3 else blocl:\n",
        " * executd only if npo exception occurs in the try block\n",
        " * used for code that should run only when try block succedds\n",
        " * helps separate error handling from normal flow\n",
        "\n",
        " 4 finally block:\n",
        "\n",
        " * always executed regardless pf wheather an exception occurred\n"
      ],
      "metadata": {
        "id": "JXTu4diofWjB"
      }
    },
    {
      "cell_type": "markdown",
      "source": [
        "Q13 why is memory management important in python ?\n",
        "\n",
        "ans:-importance of memory management in python:-\n",
        "\n",
        "1) performance optimisation:\n",
        "\n",
        "* efficient memory usage leads to faster program execution\n",
        "\n",
        "2) Resources conversatipon:\n",
        "\n",
        "* Prevents excessive memory consuption that could affect other applications\n",
        "\n",
        "3) application stability\n",
        "\n",
        "* prevents out of memory errrors that can crash programs\n",
        "\n",
        "4) scalability:\n",
        "\n",
        "* critical fo applications handling large datasets\n",
        "\n",
        "5)b cost efficiency:\n",
        "\n",
        "* reduce hardware requirements in production environments\n",
        "\n",
        "6) user experience:\n",
        "\n",
        "* prevents application slowdowns and feezing\n",
        "\n",
        "7) system health:\n",
        "\n",
        "* prevents memory exhaution that affects the entire sysytem"
      ],
      "metadata": {
        "id": "L4sfj-_YiC-x"
      }
    },
    {
      "cell_type": "markdown",
      "source": [
        "Q14  what is the role of try and except in exception handling?\n",
        "\n",
        "ans:- the try and except blocks in python serve as the foundation of exception handling , providing a structured way to handle errors gracefully here are the roles:-\n",
        "\n",
        "* error prevention and control\n",
        "* graceful error handling\n",
        "* multiple exception handling\n",
        "* program flow control\n",
        "* user exprience enhancement\n",
        "* resurce management\n",
        "* debugging and logging\n",
        "* user friendly\n",
        "* centralises error handling logic\n",
        "*allows selective handling of different error types"
      ],
      "metadata": {
        "id": "6Rm85TTcjbXn"
      }
    },
    {
      "cell_type": "markdown",
      "source": [
        "Q15  how  does pythins garbage collection system works?\n",
        "\n",
        "ans:- pythons garbage collection syste works through an automativ memomory management:\n",
        "\n",
        "1) Reference counting:-\n",
        "\n",
        "* evry object in pyhton has a refrence count that tracks how many refrences point to it\n",
        "\n",
        "* when an objects refrences count drops to zero its immediately deallocated\n",
        "\n",
        "2)cyclic garbagge collection:-\n",
        "\n",
        "* Handles circular refrences that refrences counting cant resolve\n",
        "\n",
        "* uses  agenerational garbage collector with three generatiions (0,1,2)\n",
        "\n",
        "3)generation based collection\n",
        "\n",
        "* generation 0: new objects collcted most frequently\n",
        "* generation 1: objects that survived one collection cycle\n",
        "* generation 2: long lived objects collected least frequently\n",
        "\n",
        "4) collection triggers:-\n",
        "\n",
        "* automatic trigggering based on alloctaion / deallocation thresholds\n",
        "* manual triggerng using the gc module\n",
        "\n",
        "5) weak refrences:\n",
        "\n",
        "* allow refrencing objects without affecting their refrence count\n"
      ],
      "metadata": {
        "id": "DYXQsRMfkqmO"
      }
    },
    {
      "cell_type": "markdown",
      "source": [
        "Q16 what is the purpos of the else block in exception handling?\n",
        "\n",
        "ans:-the else block in exception handling serves a specific and important purpose:-\n",
        "\n",
        "purpose and benefits:\n",
        "\n",
        "1) clean separation and logic: the else block you tob separate the code that might raise exceptions from the code that should only run when everything goes smoothly\n",
        "\n",
        "2) Improved radability: It amkes the cod's intentb clearer by explicitly showing what should happen in the sucess case\n",
        "\n",
        "3) prevents unintended exception catching."
      ],
      "metadata": {
        "id": "3mDkOwrznvui"
      }
    },
    {
      "cell_type": "markdown",
      "source": [
        "Q17 what are comman logging  levels in pyhton?\n",
        "\n",
        "ans:- pyhton logging modulles  provides several predefined logging levels that indicate the severity and importance of log messages , here arae standrad loggimng levels\n",
        "\n",
        "1) DEBUG:\n",
        "\n",
        "* lowest level\n",
        "* used for detailed diagnostic information\n",
        "\n",
        "2) INFO:\n",
        "\n",
        "* general informational messagaes\n",
        "* confirms that things are working  as expected\n",
        "\n",
        "3)WARNING:\n",
        "\n",
        "* indicates something unexpected happend or potential problems\n",
        "* the softwrae is still workins as expected\n",
        "\n",
        "4)ERROR:\n",
        "\n",
        "* serious problems that prevented a function from executing\n",
        "\n",
        "* the software was unable o perform some operation\n",
        "\n",
        "5) CRITICAL:\n",
        "\n",
        "* highest level\n",
        "* very serious errors that may cause the program to terminate"
      ],
      "metadata": {
        "id": "bjB7n4QBpAsB"
      }
    },
    {
      "cell_type": "markdown",
      "source": [
        " Q18 what is the difference bettween os.fotk() and multiprocessing  in python ?\n",
        "\n",
        " ans:- os.fork():-\n",
        "\n",
        " * only availibilty on uni like system , not avilable  on windows\n",
        " * low level sysytem call thta directly cretas a copy of the current process\n",
        " * creates an exact copy of the paren process, including memory space\n",
        " * child process initially shaares memory with parent\n",
        " * basic inter process communication through pipes signals, or shared memory\n",
        "\n",
        " multiprocessing:-\n",
        "\n",
        " * cross platform solution that works on windows linus, macos\n",
        " * highlevel module that provides a more userfriendly interface for parallel processing\n",
        " * can use different methods (fork, spwan)\n",
        " * provides controlled memory sharing through shared objects and ques\n",
        " * built in communictaion mechanisms like queue, pipe manager\n"
      ],
      "metadata": {
        "id": "lals9gffqmmY"
      }
    },
    {
      "cell_type": "markdown",
      "source": [
        "Q19 what are the importance of closing  a file in python?\n",
        "\n",
        "ans:- 1) resouce management:-\n",
        "\n",
        "* files are system resources that sonsume memory and file descriptors\n",
        "* each open file uses a file descriptor, and system have limits on how many can be open simultaneously\n",
        "\n",
        "2) data integrety:-\n",
        "\n",
        "* ensures all bufferred data is written to the file\n",
        "* prevents data loss if the program terminates unexpectedly\n",
        "\n",
        "3) memory efficiency:-\n",
        "\n",
        "* releases memory leaks  in long applications\n",
        "* releases memory buffers associated with the file\n",
        "\n",
        "4) platform compatibilty:\n",
        "\n",
        "* prevents too mamy openf iles errors\n",
        "* some operating systems have strict limits on open file handels"
      ],
      "metadata": {
        "id": "3KaV-wYuse4P"
      }
    },
    {
      "cell_type": "markdown",
      "source": [
        "Q20what is differnce between file read() and file.readline() in python:\n",
        "\n",
        "ans 1) file.read()\n",
        "\n",
        "* reads the entire file content at once\n",
        "* returns all remaining content as a single string\n",
        "* can optionally  take a sixe parameter to read specifc number of haracters\n",
        "\n",
        "2) file.readline()\n",
        "\n",
        "* reads onle one line at atime\n",
        "* rturns a single line as as string\n",
        "* moves the file pointer to the beginning of the next line"
      ],
      "metadata": {
        "id": "WLltIiaDt2ZM"
      }
    },
    {
      "cell_type": "markdown",
      "source": [
        "Q21 what sis the logging module in python is used for ?\n",
        "\n",
        "ans:- the logging module in pyhton is used for:\n",
        "  \n",
        "  * the logging module provides a flexible framework for emitting  a log messages from python programs\n",
        "  * its used to track events that happen when softwares runs hekping developers understand program behaviour and diagnose issue\n",
        "  *  debugging and trobulshooting\n",
        "  * error and exception tracking\n",
        "  *application monitoring  and performnce\n",
        "  * keep records of important events"
      ],
      "metadata": {
        "id": "Y1l3mF0rwXyf"
      }
    },
    {
      "cell_type": "markdown",
      "source": [
        "Q22 what is the os module in python used for in file handling?\n",
        "\n",
        "ans:- key functions for file handling\n",
        "\n",
        "1) path operations:-\n",
        "\n",
        "* os.path.join safely join file paths across different operating system\n",
        "* xheck if a file or dictionary exist\n",
        "* check if path is a file\n",
        "* check if path is dictionary\n",
        "* get filename from path\n",
        "\n",
        "2) Dictiory operations:-\n",
        "* os.getcwd() get current working directory\n",
        "* change current directory\n",
        "* create directory\n",
        "*create directories recursively\n",
        "* remove directory\n",
        "\n",
        "3) file operations:-\n",
        "*os.remove() delete a file\n",
        "* rename file or directory"
      ],
      "metadata": {
        "id": "xuZ147JvxX5u"
      }
    },
    {
      "cell_type": "markdown",
      "source": [
        "Q23  what are the challenges associated with memory management in python ?\n",
        "\n",
        "ans:- challenges asociated with memory management in python\n",
        "\n",
        "1) automatic memory management overhead:_\n",
        "* pythons garbage collection can introduce performnce overhead\n",
        "* automatic allocation/deallocation may not always be optimal for specific use cases\n",
        "\n",
        "2) Memory leaks\n",
        "* circular references can prevent garbage collection\n",
        "*  objects that refrences each other may not be automatically freed\n",
        "\n",
        "3) refrence counting issues\n",
        "* python uses refrences counting which can be inefficient for complex data structures\n",
        "*  circular refrences require additional cycle detection\n",
        "\n",
        "4) large object handling\n",
        "* loading large datasets into memory can cause performance issues\n",
        "* memory fragmnetation with frequent  allocation/deallocation of large objects\n",
        "\n",
        "5) memory profiling complexity\n",
        "* dificult to track exact memory usage due to pythons abstraction layers\n",
        "* complex debugging of memory related performance issues\n",
        "\n"
      ],
      "metadata": {
        "id": "9S4nc_Kh3rxf"
      }
    },
    {
      "cell_type": "markdown",
      "source": [
        "Q24how do you raise an exception manuallly in python?\n",
        "\n",
        "ans:- in python ypu can raise exceptions manually using the raise statement this allows ypu to trigger exceptions intentionally whwn certain conditions are met or when you want to handle specific errror scenarios\n",
        "\n",
        "* always provide meaningful error messages\n",
        "* use appropriate built in exception types when posssible\n",
        "* create custom exceptions for appliccation specific errors\n",
        "* include relevant context information in error messagees\n",
        "* use raise without arguments to re rraise the current exception in except blocks"
      ],
      "metadata": {
        "id": "Fo6V5lwG5tQV"
      }
    },
    {
      "cell_type": "markdown",
      "source": [
        "Q25 why is it important to use multithreading in certain applications?\n",
        "\n",
        "ans:- multithreading is important in several reasons\n",
        "\n",
        "1) improved performances and efficiency\n",
        "* allows multiple tasks to execute concurrently making better use of system\n",
        "* enables parallel procesing of independent operations\n",
        "\n",
        "2) enhanced user experience\n",
        "* prevents applications from becoming unresponsive  during long running operations\n",
        "* keeps user interfaces reactive while background taks are running\n",
        "\n",
        "3)better resource utilization:-\n",
        "* takes advantage of multit core processors by distributing work across croes\n",
        "* maximize cpu utilisation instead of keaving cores idle\n",
        "\n",
        "4) handling I/O operations\n",
        "* prevents blocking whwn waithingfor file reads, network requets or database queris\n",
        "* allows other threads to contonue working while some threads wait for I/O completion\n",
        "\n",
        "5) salability:-\n",
        "* enables applications to handle multiple client requets simultaeously\n",
        "* supports concurrent  sessions in multi user applictions\n"
      ],
      "metadata": {
        "id": "4NVFV8e_6sXL"
      }
    },
    {
      "cell_type": "markdown",
      "source": [
        "# Practical questions:-"
      ],
      "metadata": {
        "id": "LCJGRk2m8pXb"
      }
    },
    {
      "cell_type": "markdown",
      "source": [
        "Q1How can you open a file for writing in python and write a string  to it ?"
      ],
      "metadata": {
        "id": "1J-cFP__8vbV"
      }
    },
    {
      "cell_type": "code",
      "source": [
        "# using context manager\n",
        "with open(\"example.txt\" , \"w\")as file:\n",
        "  file.write(\"hello , this ia a sample text!\")"
      ],
      "metadata": {
        "id": "usCDomxM96h9"
      },
      "execution_count": null,
      "outputs": []
    },
    {
      "cell_type": "markdown",
      "source": [
        "Q2 write a python program to read the contents of a file and print each line"
      ],
      "metadata": {
        "id": "T-cSzgEi_iHN"
      }
    },
    {
      "cell_type": "code",
      "source": [
        "def print_file_lines(finename):\n",
        "  \"\"\"\n",
        "  reads a file and prints each line numbers\n",
        "  \"\"\"\n",
        "  try:\n",
        "    with open(filename, \"r\", encodings=\"utf-8\") as file:\n",
        "      print(f\"contents of' {filename}' :\")\n",
        "      print(\"_\" * 30)\n",
        "      for line_num, line in enumerate(file ,1) :\n",
        "          print(f\"{line_num:2d}: {line.strip()}\")\n",
        "      print(\"_\" * 30)\n",
        "  except filenotfounderror:\n",
        "    print(f\"error: file '{filename}' not found!\")\n",
        "  except permissionerror:\n",
        "    print(f\"error: permission deniedo read '{filename}'\")\n",
        "  except exception as e:\n",
        "    print(f\"error reading file: {e}\")\n",
        "\n",
        "  #test the function\n",
        "  print_file_lines(\"sample.text\")"
      ],
      "metadata": {
        "id": "Fiyz33Lx8k4T"
      },
      "execution_count": null,
      "outputs": []
    },
    {
      "cell_type": "markdown",
      "source": [
        "Q3 How long would you handle a case where the file dosent exit while trying to open it for reading ?"
      ],
      "metadata": {
        "id": "1B08KVSuFj9W"
      }
    },
    {
      "cell_type": "code",
      "source": [
        "try:\n",
        "  with open(\"example.txt\" ,\"r\") as file:\n",
        "    content = file.read()\n",
        "    print(content)\n",
        "except filenotfoundererror:\n",
        "    print(\"The file does not exist.\")"
      ],
      "metadata": {
        "colab": {
          "base_uri": "https://localhost:8080/"
        },
        "id": "tajmWNlqFiV_",
        "outputId": "3aaf4550-04c9-40d5-dc44-2a8b2f9767d8"
      },
      "execution_count": null,
      "outputs": [
        {
          "output_type": "stream",
          "name": "stdout",
          "text": [
            "hello , this ia a sample text!\n"
          ]
        }
      ]
    },
    {
      "cell_type": "markdown",
      "source": [
        "Q4 write a python script that reads from one file and writes its contents to another file ?"
      ],
      "metadata": {
        "id": "W_NDdfu2G_k1"
      }
    },
    {
      "cell_type": "code",
      "source": [
        "#define the source and destination file names\n",
        "source_file = 'source.txt'\n",
        "destination_file = 'destination.txt'\n",
        "\n",
        "try:\n",
        "  #open the source file for reading\n",
        "  with open(source_file , 'r') as src:\n",
        "    content = src.read()\n",
        "\n",
        "  #open the destination file for writing\n",
        "  with open(destination_file, 'w') as dest:\n",
        "#define the source and destination file names\n",
        "source_file = 'source.txt'\n",
        "destination_file = 'destination.txt'\n",
        "\n",
        "try:\n",
        "  #open the source file for reading\n",
        "  with open(source_file , 'r') as src:\n",
        "    content = src.read()\n",
        "\n",
        "  #open the destination file for writing\n",
        "  with open(destination_file, 'w') as dest:\n",
        "    dest.write(content)\n",
        "  print(f\"contents copied from {source_file} to {destination_file}\")\n",
        "except FileNotFoundError:\n",
        "   print(f\"error: {source_file} not found).\")\n",
        "\n",
        "except Exception as e:\n",
        "    print(f\"error occured: {e}\")\n",
        " except exception as e:\n",
        "    print(f\"error occured: {e}\")\n"
      ],
      "metadata": {
        "colab": {
          "base_uri": "https://localhost:8080/",
          "height": 106
        },
        "collapsed": true,
        "id": "gespXJb8GsYH",
        "outputId": "7c75a489-db0e-4c98-ef4e-187ee34a9b7b"
      },
      "execution_count": null,
      "outputs": [
        {
          "output_type": "error",
          "ename": "IndentationError",
          "evalue": "unindent does not match any outer indentation level (<tokenize>, line 30)",
          "traceback": [
            "\u001b[0;36m  File \u001b[0;32m\"<tokenize>\"\u001b[0;36m, line \u001b[0;32m30\u001b[0m\n\u001b[0;31m    except exception as e:\u001b[0m\n\u001b[0m    ^\u001b[0m\n\u001b[0;31mIndentationError\u001b[0m\u001b[0;31m:\u001b[0m unindent does not match any outer indentation level\n"
          ]
        }
      ]
    },
    {
      "cell_type": "markdown",
      "source": [
        "Q5  How would you catch and handle division by zero error in python ?"
      ],
      "metadata": {
        "id": "5pjAW0JdJ46i"
      }
    },
    {
      "cell_type": "code",
      "source": [
        "# corrected code for handling divison by zero error in python\n",
        "try:\n",
        "  numerator = 10\n",
        "  denominator = 0\n",
        "  result = numerator / denominator\n",
        "  print(\"result:\" ,result)\n",
        "except ZeroDivisionError :\n",
        "  print(\"Error : Division by zero is not alowed. \")"
      ],
      "metadata": {
        "colab": {
          "base_uri": "https://localhost:8080/"
        },
        "id": "-FeAvMLIJn8j",
        "outputId": "c4af9661-3c93-4e60-8748-3a1e40169195"
      },
      "execution_count": null,
      "outputs": [
        {
          "output_type": "stream",
          "name": "stdout",
          "text": [
            "Error : Division by zero is not alowed. \n"
          ]
        }
      ]
    },
    {
      "cell_type": "markdown",
      "source": [
        "Q6 write a python program that logs an error message to a log file when a division by zero exception occurs."
      ],
      "metadata": {
        "id": "t8BGbsYHLLGT"
      }
    },
    {
      "cell_type": "code",
      "source": [
        "import logging\n",
        "#configure logging\n",
        "logging.basicConfig(filename = 'error_log.log' , level=logging.ERROR,\n",
        "                    format= '%(assctime)s -%(levelname)s -%(message)s')\n",
        "try:\n",
        "  numerator = 10\n",
        "  denominator = 0\n",
        "  result = numerator / denominator\n",
        "  print(\"result:\", result)\n",
        "except ZeroDivisionError as e:\n",
        "  logging.error(\"Division by zero occures: %s\",6)\n",
        "  print(\"Error: DIvision by zero is not allowed .Check the log file for details.\")\n"
      ],
      "metadata": {
        "colab": {
          "base_uri": "https://localhost:8080/"
        },
        "id": "eqgXIq__Lk45",
        "outputId": "9d76ca9a-3117-40b4-b5e1-01187339c7f9"
      },
      "execution_count": null,
      "outputs": [
        {
          "output_type": "stream",
          "name": "stderr",
          "text": [
            "ERROR:root:Division by zero occures: 6\n"
          ]
        },
        {
          "output_type": "stream",
          "name": "stdout",
          "text": [
            "Error: DIvision by zero is not allowed .Check the log file for details.\n"
          ]
        }
      ]
    },
    {
      "cell_type": "markdown",
      "source": [
        "Q7HOw do you log information at different levels (INFO, ERROR,WARNING) in python using the logging module"
      ],
      "metadata": {
        "id": "Kt7zWIFvNndA"
      }
    },
    {
      "cell_type": "code",
      "source": [],
      "metadata": {
        "id": "6jPsjnjsQHAF"
      },
      "execution_count": null,
      "outputs": []
    },
    {
      "cell_type": "markdown",
      "source": [
        "Q8write aprogram to handle a file opening error using exception handling"
      ],
      "metadata": {
        "id": "FvyZTbg2QHYd"
      }
    },
    {
      "cell_type": "code",
      "source": [
        "try:\n",
        "  #attempt to open a file\n",
        "  file = open(\"non_existent_file.txt\" , \"r\")\n",
        "  content = file.read()\n",
        "  print(content)\n",
        "  file.close()\n",
        "except FileNotFoundError as e:\n",
        "  #Handle the file not found error\n",
        "  print(\"error: The file you are trying to open does not exist.\")\n",
        "  print(f\"details:{e}\")\n",
        "except Exception as e:\n",
        "  #Handle any other exceptions\n",
        "  print(\"An unexpected error occured.\")\n",
        "  print(f\"Details:{e}\")"
      ],
      "metadata": {
        "colab": {
          "base_uri": "https://localhost:8080/"
        },
        "id": "colgR_TuQZN0",
        "outputId": "4b20aa26-4c03-47fb-d618-6f59fa6bed35"
      },
      "execution_count": null,
      "outputs": [
        {
          "output_type": "stream",
          "name": "stdout",
          "text": [
            "error: The file you are trying to open does not exist.\n",
            "details:[Errno 2] No such file or directory: 'non_existent_file.txt'\n"
          ]
        }
      ]
    },
    {
      "cell_type": "markdown",
      "source": [
        "Q9How can you read a file line by line and store its content in list in python"
      ],
      "metadata": {
        "id": "RTpp-Q2XRhK0"
      }
    },
    {
      "cell_type": "code",
      "source": [
        "# open afile in read mode\n",
        "try:\n",
        "  with open(\"filename.txt\",\"r\") as file:\n",
        "    #read all lines and store them in alist\n",
        "    lines = file.readlines()\n",
        "\n",
        "  #strip newline chracters and print the list\n",
        "  lines =[line.strip() for line in lines]\n",
        "  print(lines)\n",
        "except FileNotFoundError:\n",
        "  print(\"Error: The file does not exist .\")\n",
        "except Exception as e:\n",
        "  print(f\"an unexpected error occured: {e}\")"
      ],
      "metadata": {
        "colab": {
          "base_uri": "https://localhost:8080/"
        },
        "id": "jNoQQS7tRzHr",
        "outputId": "23a96adb-b5f7-4b98-a25b-bfca0b5effa2"
      },
      "execution_count": null,
      "outputs": [
        {
          "output_type": "stream",
          "name": "stdout",
          "text": [
            "Error: The file does not exist .\n"
          ]
        }
      ]
    },
    {
      "cell_type": "markdown",
      "source": [
        "Q10 How can you append data to an existing file in python ?"
      ],
      "metadata": {
        "id": "opa1PKpgS8jK"
      }
    },
    {
      "cell_type": "code",
      "source": [
        "#Open the file in append mode\n",
        "try:\n",
        "  with open(\"filename.txt\" , \"a\") as file:\n",
        "    #Append data to the file\n",
        "    file.write(\"\\nThis is the new data being appended.\")\n",
        "    print(\"Data appended successfully.\")\n",
        "except FileNotFoundError:\n",
        "  print(\"Error: The file does not exist.\")\n",
        "except Exception as e:\n",
        "  print(f\"An uexpected error occurres: {e}\")"
      ],
      "metadata": {
        "colab": {
          "base_uri": "https://localhost:8080/"
        },
        "id": "srTgZJ4JS7sb",
        "outputId": "910fd60b-6a5b-45c3-a607-3f33ebbafc58"
      },
      "execution_count": null,
      "outputs": [
        {
          "output_type": "stream",
          "name": "stdout",
          "text": [
            "Data appended successfully.\n"
          ]
        }
      ]
    },
    {
      "cell_type": "markdown",
      "source": [
        "Q11 write a python program that uss a try except block to handle an error whwn attemoting a access a dictionary key thaht dosent exist"
      ],
      "metadata": {
        "id": "FVj4-JNig70W"
      }
    },
    {
      "cell_type": "code",
      "source": [
        "#define a dictionary\n",
        "my_dict = {\"name\": \"alice\" ,\"age\" : 25}\n",
        "#Try to access akey that might not exist\n",
        "try:\n",
        "  value = my_dict[\"address\"]\n",
        "  print(f\"the value is:{value}\")\n",
        "except Keyerror:\n",
        "  print(\"Error: The specofied key does not exist in the dictionary.\")"
      ],
      "metadata": {
        "colab": {
          "base_uri": "https://localhost:8080/",
          "height": 367
        },
        "collapsed": true,
        "id": "PbS4Pl4uUdSi",
        "outputId": "50c3a96a-334b-47a5-a69b-802b5597c7c9"
      },
      "execution_count": null,
      "outputs": [
        {
          "output_type": "error",
          "ename": "NameError",
          "evalue": "name 'Keyerror' is not defined",
          "traceback": [
            "\u001b[0;31m---------------------------------------------------------------------------\u001b[0m",
            "\u001b[0;31mKeyError\u001b[0m                                  Traceback (most recent call last)",
            "\u001b[0;32m<ipython-input-21-f662388fcb94>\u001b[0m in \u001b[0;36m<cell line: 0>\u001b[0;34m()\u001b[0m\n\u001b[1;32m      4\u001b[0m \u001b[0;32mtry\u001b[0m\u001b[0;34m:\u001b[0m\u001b[0;34m\u001b[0m\u001b[0;34m\u001b[0m\u001b[0m\n\u001b[0;32m----> 5\u001b[0;31m   \u001b[0mvalue\u001b[0m \u001b[0;34m=\u001b[0m \u001b[0mmy_dict\u001b[0m\u001b[0;34m[\u001b[0m\u001b[0;34m\"address\"\u001b[0m\u001b[0;34m]\u001b[0m\u001b[0;34m\u001b[0m\u001b[0;34m\u001b[0m\u001b[0m\n\u001b[0m\u001b[1;32m      6\u001b[0m   \u001b[0mprint\u001b[0m\u001b[0;34m(\u001b[0m\u001b[0;34mf\"the value is:{value}\"\u001b[0m\u001b[0;34m)\u001b[0m\u001b[0;34m\u001b[0m\u001b[0;34m\u001b[0m\u001b[0m\n",
            "\u001b[0;31mKeyError\u001b[0m: 'address'",
            "\nDuring handling of the above exception, another exception occurred:\n",
            "\u001b[0;31mNameError\u001b[0m                                 Traceback (most recent call last)",
            "\u001b[0;32m<ipython-input-21-f662388fcb94>\u001b[0m in \u001b[0;36m<cell line: 0>\u001b[0;34m()\u001b[0m\n\u001b[1;32m      5\u001b[0m   \u001b[0mvalue\u001b[0m \u001b[0;34m=\u001b[0m \u001b[0mmy_dict\u001b[0m\u001b[0;34m[\u001b[0m\u001b[0;34m\"address\"\u001b[0m\u001b[0;34m]\u001b[0m\u001b[0;34m\u001b[0m\u001b[0;34m\u001b[0m\u001b[0m\n\u001b[1;32m      6\u001b[0m   \u001b[0mprint\u001b[0m\u001b[0;34m(\u001b[0m\u001b[0;34mf\"the value is:{value}\"\u001b[0m\u001b[0;34m)\u001b[0m\u001b[0;34m\u001b[0m\u001b[0;34m\u001b[0m\u001b[0m\n\u001b[0;32m----> 7\u001b[0;31m \u001b[0;32mexcept\u001b[0m \u001b[0mKeyerror\u001b[0m\u001b[0;34m:\u001b[0m\u001b[0;34m\u001b[0m\u001b[0;34m\u001b[0m\u001b[0m\n\u001b[0m\u001b[1;32m      8\u001b[0m   \u001b[0mprint\u001b[0m\u001b[0;34m(\u001b[0m\u001b[0;34m\"Error: The specofied key does not exist in the dictionary.\"\u001b[0m\u001b[0;34m)\u001b[0m\u001b[0;34m\u001b[0m\u001b[0;34m\u001b[0m\u001b[0m\n",
            "\u001b[0;31mNameError\u001b[0m: name 'Keyerror' is not defined"
          ]
        }
      ]
    },
    {
      "cell_type": "markdown",
      "source": [
        "Q12write a program that demonstrate using multiple  blocks to handle diferent types of exceptions"
      ],
      "metadata": {
        "id": "TaQMygC9imWt"
      }
    },
    {
      "cell_type": "code",
      "source": [
        "try:\n",
        "  #Attempting to divide by zero\n",
        "  result = 10/0\n",
        "  print(f\"Result: {result}\")\n",
        "\n",
        "  #Attempting to access an invalid index in a list\n",
        "  my_list = [1, 2, 3]\n",
        "  print(my_list[5])\n",
        "  #Attemptinf to  access a non xisting dictionary key\n",
        "  my_dic = {\"name\": \"Alice\" , \"age\" : 25}\n",
        "  print(my_dict[\"address\"])\n",
        "\n",
        "except ZeroDivisionError:\n",
        "   print(\"Error:Division by zero is not allowed.\")\n",
        "\n",
        "except IndexError :\n",
        "  print(\"Error :List index out of range.\")\n",
        "\n",
        "except KeyError:\n",
        "  print(\"Error: THe specifies key does not exist in the dictionary.\")\n",
        "\n",
        "except Exception as e:\n",
        "  print(f\"An unexpected error occured: {e}\")\n"
      ],
      "metadata": {
        "colab": {
          "base_uri": "https://localhost:8080/"
        },
        "id": "VrdJFa5ijLo7",
        "outputId": "6fca05e1-ad45-4176-b55a-2159eeacb5e6"
      },
      "execution_count": null,
      "outputs": [
        {
          "output_type": "stream",
          "name": "stdout",
          "text": [
            "Error:Division by zero is not allowed.\n"
          ]
        }
      ]
    },
    {
      "cell_type": "markdown",
      "source": [
        "Q13 How would you check if a file exists before attempting to read it in python"
      ],
      "metadata": {
        "id": "bJkW0DYnnSJo"
      }
    },
    {
      "cell_type": "code",
      "source": [
        "import os\n",
        "file_path = 'example.txt'\n",
        "\n",
        "if os.path.exists(file_path):\n",
        "  with open(file_path, 'r') as file :\n",
        "\n",
        "    contents = file.read()\n",
        "    print(contents)\n",
        "\n",
        "else:\n",
        "   print(\"file dpes not exist.\")"
      ],
      "metadata": {
        "colab": {
          "base_uri": "https://localhost:8080/"
        },
        "id": "HDTVaksmhew-",
        "outputId": "6c9fe293-eb5e-4048-e819-9db0cb356b28"
      },
      "execution_count": null,
      "outputs": [
        {
          "output_type": "stream",
          "name": "stdout",
          "text": [
            "hello , this ia a sample text!\n"
          ]
        }
      ]
    },
    {
      "cell_type": "markdown",
      "source": [
        "Q14 write  a program that uses the logging module to log both informational and error messages"
      ],
      "metadata": {
        "id": "6DC5GLwBokeH"
      }
    },
    {
      "cell_type": "code",
      "source": [
        "# Configure the logging module\n",
        "logging.basicConfig (\n",
        "    level=logging.DEBUG,\n",
        "    format='%(asctime)s - %(levelname)s -%(message)s' ,\n",
        "    filename='app.log',\n",
        "    filemode='w' #Overwrite the log file each\n",
        ")\n",
        "\n",
        "#Log informational messages\n",
        "logging.info(\"This is an informational message.\")\n",
        "logging.debug(\"This is a debug messagae for detailed troubleshooting.\")\n",
        "\n",
        "try:\n",
        "   # simulate ablock of code that may raise an exception\n",
        "   result = 0/0 # this will raise a ZeroDivisionerror\n",
        "except ZerodivisionError as e:\n",
        "   # Log the error message\n",
        "   logging.error(\"an error occured : Division by zero.\" ,exc_info=True)\n",
        "\n",
        "# log a warning message\n",
        "logging.warning(\"this is a warning message.\")\n",
        "\n",
        "# log a critical message\n",
        "logging.critical(\"this is a critical message indicating a severe issue.\")"
      ],
      "metadata": {
        "colab": {
          "base_uri": "https://localhost:8080/",
          "height": 384
        },
        "collapsed": true,
        "id": "KQnNvOFdoZVY",
        "outputId": "03a007cb-3891-4814-949c-69f2baa88412"
      },
      "execution_count": null,
      "outputs": [
        {
          "output_type": "error",
          "ename": "NameError",
          "evalue": "name 'ZerodivisionError' is not defined",
          "traceback": [
            "\u001b[0;31m---------------------------------------------------------------------------\u001b[0m",
            "\u001b[0;31mZeroDivisionError\u001b[0m                         Traceback (most recent call last)",
            "\u001b[0;32m<ipython-input-25-ca9d489db726>\u001b[0m in \u001b[0;36m<cell line: 0>\u001b[0;34m()\u001b[0m\n\u001b[1;32m     14\u001b[0m    \u001b[0;31m# simulate ablock of code that may raise an exception\u001b[0m\u001b[0;34m\u001b[0m\u001b[0;34m\u001b[0m\u001b[0m\n\u001b[0;32m---> 15\u001b[0;31m    \u001b[0mresult\u001b[0m \u001b[0;34m=\u001b[0m \u001b[0;36m0\u001b[0m\u001b[0;34m/\u001b[0m\u001b[0;36m0\u001b[0m \u001b[0;31m# this will raise a ZeroDivisionerror\u001b[0m\u001b[0;34m\u001b[0m\u001b[0;34m\u001b[0m\u001b[0m\n\u001b[0m\u001b[1;32m     16\u001b[0m \u001b[0;32mexcept\u001b[0m \u001b[0mZerodivisionError\u001b[0m \u001b[0;32mas\u001b[0m \u001b[0me\u001b[0m\u001b[0;34m:\u001b[0m\u001b[0;34m\u001b[0m\u001b[0;34m\u001b[0m\u001b[0m\n",
            "\u001b[0;31mZeroDivisionError\u001b[0m: division by zero",
            "\nDuring handling of the above exception, another exception occurred:\n",
            "\u001b[0;31mNameError\u001b[0m                                 Traceback (most recent call last)",
            "\u001b[0;32m<ipython-input-25-ca9d489db726>\u001b[0m in \u001b[0;36m<cell line: 0>\u001b[0;34m()\u001b[0m\n\u001b[1;32m     14\u001b[0m    \u001b[0;31m# simulate ablock of code that may raise an exception\u001b[0m\u001b[0;34m\u001b[0m\u001b[0;34m\u001b[0m\u001b[0m\n\u001b[1;32m     15\u001b[0m    \u001b[0mresult\u001b[0m \u001b[0;34m=\u001b[0m \u001b[0;36m0\u001b[0m\u001b[0;34m/\u001b[0m\u001b[0;36m0\u001b[0m \u001b[0;31m# this will raise a ZeroDivisionerror\u001b[0m\u001b[0;34m\u001b[0m\u001b[0;34m\u001b[0m\u001b[0m\n\u001b[0;32m---> 16\u001b[0;31m \u001b[0;32mexcept\u001b[0m \u001b[0mZerodivisionError\u001b[0m \u001b[0;32mas\u001b[0m \u001b[0me\u001b[0m\u001b[0;34m:\u001b[0m\u001b[0;34m\u001b[0m\u001b[0;34m\u001b[0m\u001b[0m\n\u001b[0m\u001b[1;32m     17\u001b[0m    \u001b[0;31m# Log the error message\u001b[0m\u001b[0;34m\u001b[0m\u001b[0;34m\u001b[0m\u001b[0m\n\u001b[1;32m     18\u001b[0m    \u001b[0mlogging\u001b[0m\u001b[0;34m.\u001b[0m\u001b[0merror\u001b[0m\u001b[0;34m(\u001b[0m\u001b[0;34m\"an error occured : Division by zero.\"\u001b[0m \u001b[0;34m,\u001b[0m\u001b[0mexc_info\u001b[0m\u001b[0;34m=\u001b[0m\u001b[0;32mTrue\u001b[0m\u001b[0;34m)\u001b[0m\u001b[0;34m\u001b[0m\u001b[0;34m\u001b[0m\u001b[0m\n",
            "\u001b[0;31mNameError\u001b[0m: name 'ZerodivisionError' is not defined"
          ]
        }
      ]
    },
    {
      "cell_type": "markdown",
      "source": [
        "Q15 write a python program that prints the content of a file and handles the case when the file is empty"
      ],
      "metadata": {
        "id": "TRI1IjB5z3Q_"
      }
    },
    {
      "cell_type": "code",
      "source": [
        "def print_file_content(filename):\n",
        "    try:\n",
        "        with open(filename, 'r') as file:\n",
        "          content = file.read()\n",
        "          if not contenet:\n",
        "            print(\" The file is empty\")\n",
        "          else :\n",
        "            print(\"File Content \\n\")\n",
        "            print(content)\n",
        "    except FileNotFoundError:\n",
        "      print(f\"Error: The file '{filename}' does not exist.\")\n",
        "\n",
        "    except I0Error as e:\n",
        "      print(f\"An I/0 error occured: {e}\")\n",
        "\n"
      ],
      "metadata": {
        "id": "M1tM2UsMz2NN"
      },
      "execution_count": null,
      "outputs": []
    },
    {
      "cell_type": "markdown",
      "source": [
        "Q16 Demonstrate how to use memory profiling to check the memory usagae of a small program"
      ],
      "metadata": {
        "id": "EL1iiTT81u78"
      }
    },
    {
      "cell_type": "code",
      "source": [
        "from memory_profiler import memory_profiler\n",
        "@profile\n",
        "def create_large_list():\n",
        "  a = [i for i in range(1000000)]\n",
        "  b = sum(a)\n",
        "\n",
        "if __name__ == \"__main__\":\n",
        "  create_large_list()"
      ],
      "metadata": {
        "colab": {
          "base_uri": "https://localhost:8080/",
          "height": 383
        },
        "collapsed": true,
        "id": "8RE-ZSYh1t97",
        "outputId": "c0d26104-f4c6-4eec-a522-9dfb9f74e828"
      },
      "execution_count": null,
      "outputs": [
        {
          "output_type": "error",
          "ename": "ModuleNotFoundError",
          "evalue": "No module named 'memory_profiler'",
          "traceback": [
            "\u001b[0;31m---------------------------------------------------------------------------\u001b[0m",
            "\u001b[0;31mModuleNotFoundError\u001b[0m                       Traceback (most recent call last)",
            "\u001b[0;32m<ipython-input-27-977f8679c91e>\u001b[0m in \u001b[0;36m<cell line: 0>\u001b[0;34m()\u001b[0m\n\u001b[0;32m----> 1\u001b[0;31m \u001b[0;32mfrom\u001b[0m \u001b[0mmemory_profiler\u001b[0m \u001b[0;32mimport\u001b[0m \u001b[0mmemory_profiler\u001b[0m\u001b[0;34m\u001b[0m\u001b[0;34m\u001b[0m\u001b[0m\n\u001b[0m\u001b[1;32m      2\u001b[0m \u001b[0;34m@\u001b[0m\u001b[0mprofile\u001b[0m\u001b[0;34m\u001b[0m\u001b[0;34m\u001b[0m\u001b[0m\n\u001b[1;32m      3\u001b[0m \u001b[0;32mdef\u001b[0m \u001b[0mcreate_large_list\u001b[0m\u001b[0;34m(\u001b[0m\u001b[0;34m)\u001b[0m\u001b[0;34m:\u001b[0m\u001b[0;34m\u001b[0m\u001b[0;34m\u001b[0m\u001b[0m\n\u001b[1;32m      4\u001b[0m   \u001b[0ma\u001b[0m \u001b[0;34m=\u001b[0m \u001b[0;34m[\u001b[0m\u001b[0mi\u001b[0m \u001b[0;32mfor\u001b[0m \u001b[0mi\u001b[0m \u001b[0;32min\u001b[0m \u001b[0mrange\u001b[0m\u001b[0;34m(\u001b[0m\u001b[0;36m1000000\u001b[0m\u001b[0;34m)\u001b[0m\u001b[0;34m]\u001b[0m\u001b[0;34m\u001b[0m\u001b[0;34m\u001b[0m\u001b[0m\n\u001b[1;32m      5\u001b[0m   \u001b[0mb\u001b[0m \u001b[0;34m=\u001b[0m \u001b[0msum\u001b[0m\u001b[0;34m(\u001b[0m\u001b[0ma\u001b[0m\u001b[0;34m)\u001b[0m\u001b[0;34m\u001b[0m\u001b[0;34m\u001b[0m\u001b[0m\n",
            "\u001b[0;31mModuleNotFoundError\u001b[0m: No module named 'memory_profiler'",
            "",
            "\u001b[0;31m---------------------------------------------------------------------------\u001b[0;32m\nNOTE: If your import is failing due to a missing package, you can\nmanually install dependencies using either !pip or !apt.\n\nTo view examples of installing some common dependencies, click the\n\"Open Examples\" button below.\n\u001b[0;31m---------------------------------------------------------------------------\u001b[0m\n"
          ],
          "errorDetails": {
            "actions": [
              {
                "action": "open_url",
                "actionText": "Open Examples",
                "url": "/notebooks/snippets/importing_libraries.ipynb"
              }
            ]
          }
        }
      ]
    },
    {
      "cell_type": "markdown",
      "source": [
        "Q17 write a python program to create and write a list of numbers to a file one number per line"
      ],
      "metadata": {
        "id": "iowiQ1hY4tYJ"
      }
    },
    {
      "cell_type": "code",
      "source": [
        "# python program to create and write a list of numbers to a fle, one number per line\n",
        "\n",
        "def write_numbers_to_file(file_path , numbers):\n",
        "  try:\n",
        "\n",
        "    #Open the file in write mode\n",
        "    with open(file_path ,'w')as filoe:\n",
        "      for number in numbers:\n",
        "        file.write(f\"{number}\\n\") # write each number followed by a newline\n",
        "    print(f\"Numbers successfully written to {file_path}\")\n",
        "  except Exception as e:\n",
        "    print(f\"An error occured: {e}\")\n",
        "\n",
        "# example usage\n",
        "numbers = [1,2,3,4,5,6,7,8,9,10] # list of numbers\n",
        "file_path = \"numbers.txt\" #file to write the numbers\n",
        "write_numbers_to_file(file_path, numbers)"
      ],
      "metadata": {
        "colab": {
          "base_uri": "https://localhost:8080/"
        },
        "id": "cljc6sjL4rKB",
        "outputId": "a99ebb8e-cc52-43e0-9487-6fbe55f93a56"
      },
      "execution_count": null,
      "outputs": [
        {
          "output_type": "stream",
          "name": "stdout",
          "text": [
            "An error occured: I/O operation on closed file.\n"
          ]
        }
      ]
    },
    {
      "cell_type": "markdown",
      "source": [
        "Q18 how would you implement a basic  logging setup that logs to a file with roation after 1MB"
      ],
      "metadata": {
        "id": "fRoM4naG6uip"
      }
    },
    {
      "cell_type": "code",
      "source": [
        "from logging import Handler\n",
        "import loggingfrom logging.handlers import Rotatingfilehandler\n",
        "\n",
        "# Create logger\n",
        "logger =logging.getloggr(\"my_logger\")\n",
        "logger.setLevel(logging.INfO)\n",
        "\n",
        "#create a rotating file Handler\n",
        "handler = RotatingFileHandler (\n",
        "    \"app.log\" , #log file name\n",
        "    maxBytes = 1* 1024 *1024 , # 1MB\n",
        "    backuoCount = 5 # keep up to 5  old log files\n",
        ")\n",
        "\n",
        "#create formatter and set it to handler\n",
        "formatter = logging.formatter('%(asctime)s - %(levelname)s - %(message)s')\n",
        "handler.setFormatter(formatter)\n",
        "\n",
        "#Add handler to logger\n",
        "logger.addHandler(handler)\n",
        "\n",
        "#example log messages\n",
        "for i in range(10000):\n",
        "    logger.info(f\"this is log message number {i}\")"
      ],
      "metadata": {
        "id": "vtn8G-0l6pu3"
      },
      "execution_count": null,
      "outputs": []
    },
    {
      "cell_type": "markdown",
      "source": [
        "Q19 write aprogram that handles both indexerror and keyerror using atry except block"
      ],
      "metadata": {
        "id": "3Sv7AtcG9m2s"
      }
    },
    {
      "cell_type": "code",
      "source": [
        "try :\n",
        "   #code that may raise IndexError\n",
        "   my_list = [1,2 ,3]\n",
        "   print(my_list[5]) # this will raise an IndexError\n",
        "\n",
        "   # Code that may raise keyError\n",
        "   my_dict = {\"a\": 1, \"b\":2}\n",
        "   print(my_dict[\"c\"]) # this will raise a KeyError\n",
        "except IndexError as e:\n",
        "  print(f\"Indexerror occurred: {e}\")\n",
        "\n",
        "except KeyError as e:\n",
        "  print(f\"KeyError occurred: {e}\")"
      ],
      "metadata": {
        "colab": {
          "base_uri": "https://localhost:8080/"
        },
        "id": "gOXJx5pjBduq",
        "outputId": "50043d99-f442-4024-aaee-140b6ba2b278"
      },
      "execution_count": null,
      "outputs": [
        {
          "output_type": "stream",
          "name": "stdout",
          "text": [
            "Indexerror occurred: list index out of range\n"
          ]
        }
      ]
    },
    {
      "cell_type": "markdown",
      "source": [
        "Q20 How would you open a file and read its contents using a ontext manager in python"
      ],
      "metadata": {
        "id": "EcOHRC9jCnjo"
      }
    },
    {
      "cell_type": "code",
      "source": [
        "# Op[en the file using a context  manager\n",
        "with open(\"filename.txt\" ,\"r\") as file:\n",
        "    #read the contents of the file\n",
        "    contents = file.read()\n",
        "# Print the contents\n",
        "print(contents)"
      ],
      "metadata": {
        "colab": {
          "base_uri": "https://localhost:8080/"
        },
        "id": "8p0ANTSlCm_w",
        "outputId": "e3cf013e-52eb-4c34-d18e-4db0e47791bf"
      },
      "execution_count": null,
      "outputs": [
        {
          "output_type": "stream",
          "name": "stdout",
          "text": [
            "\n",
            "This is the new data being appended.\n"
          ]
        }
      ]
    },
    {
      "cell_type": "markdown",
      "source": [
        "Q21 write a python program that reads a file and prints the number of occurrences of a specific word"
      ],
      "metadata": {
        "id": "j8V_k6ppD5x_"
      }
    },
    {
      "cell_type": "code",
      "source": [
        "# python program to read a file  and count occurrences of a specific word\n",
        "#define the file nmae and tha word search for\n",
        "file_name = \"filename.txt\"\n",
        "word_to_search = \"specific_word\"\n",
        "\n",
        "#initialise a counter\n",
        "word_count = 0\n",
        "\n",
        "#Open the file using a context  manger\n",
        "with open(file_name ,\"r\") as file:\n",
        "  #read the file  line by line\n",
        "  for line in file:\n",
        "      # split the line into words\n",
        "      words = line.split()\n",
        "      # Count occurrences of the specific  word in the current line\n",
        "      word_count += words.count(word_to_search)\n",
        "\n",
        "#print the result\n",
        "print(f\"the world '{word_to_search}' occurred {word_count} times in he file\")"
      ],
      "metadata": {
        "colab": {
          "base_uri": "https://localhost:8080/"
        },
        "id": "Z35TaiFtDabv",
        "outputId": "24175fb6-8577-4a90-8abc-cef76a4974df"
      },
      "execution_count": null,
      "outputs": [
        {
          "output_type": "stream",
          "name": "stdout",
          "text": [
            "the world 'specific_word' occurred 0 times in he file\n"
          ]
        }
      ]
    },
    {
      "cell_type": "markdown",
      "source": [
        "Q22how can you check if a file is empty before attempting to read its contents"
      ],
      "metadata": {
        "id": "iqDkto1QFsGF"
      }
    },
    {
      "cell_type": "code",
      "source": [
        "import os\n",
        "# specify the file name\n",
        "file_name = \"filename.txt\"\n",
        "\n",
        "# check if file is empty\n",
        "if os.path.exists(file_name) and os.path.getsize(file_name) ==0:\n",
        "  print(f\"the file '{file_name}' is empty.\")\n",
        "\n",
        "else:\n",
        "    print(f\"The file '{file_name}' is not empty \")"
      ],
      "metadata": {
        "colab": {
          "base_uri": "https://localhost:8080/"
        },
        "id": "6T7bFpXtFrFV",
        "outputId": "df4079ca-925a-4125-eb39-37280f7d7a3c"
      },
      "execution_count": null,
      "outputs": [
        {
          "output_type": "stream",
          "name": "stdout",
          "text": [
            "The file 'filename.txt' is not empty \n"
          ]
        }
      ]
    },
    {
      "cell_type": "markdown",
      "source": [
        "Q23 write a python program that writes to a log file when an error occurs during file handling"
      ],
      "metadata": {
        "id": "UlhFi76zJwKD"
      }
    },
    {
      "cell_type": "code",
      "source": [
        "import logging\n",
        "#configure logging\n",
        "logging.basicConfig(filename='error_log.log' , level=logging.ERROR,\n",
        "                    format = '%(asctime)s - %(levelname)s -%(message)s')\n",
        "try:\n",
        "   #attempt to open a file  that may not exist\n",
        "   with open('non_existent_file.txt' ,'r') as file:\n",
        "       content = file.read()\n",
        "except FileNotFoundError as e:\n",
        "  # log the error if the file is not found\n",
        "  logging.error(f\"File not found: {e}\")\n",
        "  print(\"An error occurred. check the log file for details.\")\n",
        "except Exception as e:\n",
        "  # log anny other exceptions\n",
        "  logging.error(f\"An unexpected  error occurred: {e}\")\n",
        "  print(\"An unexpected error occurred. Check the log file for details.\")"
      ],
      "metadata": {
        "colab": {
          "base_uri": "https://localhost:8080/"
        },
        "id": "a3hfROL1JrzJ",
        "outputId": "965103b1-5832-4dc3-f6b8-6d6bdabae7a5"
      },
      "execution_count": null,
      "outputs": [
        {
          "output_type": "stream",
          "name": "stderr",
          "text": [
            "ERROR:root:File not found: [Errno 2] No such file or directory: 'non_existent_file.txt'\n"
          ]
        },
        {
          "output_type": "stream",
          "name": "stdout",
          "text": [
            "An error occurred. check the log file for details.\n"
          ]
        }
      ]
    },
    {
      "cell_type": "code",
      "source": [],
      "metadata": {
        "id": "NM7XsS0HMLcH"
      },
      "execution_count": null,
      "outputs": []
    }
  ]
}